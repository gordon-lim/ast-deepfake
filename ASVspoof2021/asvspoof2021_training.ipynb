{
 "cells": [
  {
   "cell_type": "code",
   "execution_count": 1,
   "metadata": {
    "_kg_hide-output": true,
    "executionInfo": {
     "elapsed": 48783,
     "status": "ok",
     "timestamp": 1715758369784,
     "user": {
      "displayName": "Ishrak Shadman 1721835042",
      "userId": "02704652411894013961"
     },
     "user_tz": -360
    },
    "id": "6xN94EWyYX4O",
    "outputId": "ecb663e2-536b-4260-d6ca-356c62c5afd2",
    "trusted": true
   },
   "outputs": [],
   "source": [
    "# !pip install ipykernel==5.5.6\n",
    "# !pip install jupyter-client<8,>=5.3.4\n",
    "\n",
    "# !pip install jupyterlab\n",
    "# !pip install jedi\n",
    "\n",
    "# %config Completer.use_jedi = False\n"
   ]
  },
  {
   "cell_type": "markdown",
   "metadata": {
    "id": "MWmWAh5jgEZ6"
   },
   "source": [
    "# **Library Imports**"
   ]
  },
  {
   "cell_type": "code",
   "execution_count": 5,
   "metadata": {
    "trusted": true
   },
   "outputs": [],
   "source": [
    "import os\n",
    "import random\n",
    "import pandas as pd\n",
    "import numpy as np\n",
    "\n",
    "from sklearn.model_selection import train_test_split\n"
   ]
  },
  {
   "cell_type": "code",
   "execution_count": 7,
   "metadata": {},
   "outputs": [
    {
     "name": "stdout",
     "output_type": "stream",
     "text": [
      "/home/lsh-ast/Downloads/ast/asvspoof\n"
     ]
    }
   ],
   "source": [
    "print(os.getcwd())\n",
    "address = os.getcwd() + \"/archive\" "
   ]
  },
  {
   "cell_type": "code",
   "execution_count": 8,
   "metadata": {},
   "outputs": [
    {
     "name": "stdout",
     "output_type": "stream",
     "text": [
      "['/home/lsh-ast/Downloads/ast/asvspoof/archive/ASVspoof2019_LA_train/flac']\n",
      "Total number of audio files: 25380\n"
     ]
    },
    {
     "data": {
      "text/html": [
       "<div>\n",
       "<style scoped>\n",
       "    .dataframe tbody tr th:only-of-type {\n",
       "        vertical-align: middle;\n",
       "    }\n",
       "\n",
       "    .dataframe tbody tr th {\n",
       "        vertical-align: top;\n",
       "    }\n",
       "\n",
       "    .dataframe thead th {\n",
       "        text-align: right;\n",
       "    }\n",
       "</style>\n",
       "<table border=\"1\" class=\"dataframe\">\n",
       "  <thead>\n",
       "    <tr style=\"text-align: right;\">\n",
       "      <th></th>\n",
       "      <th>File Path</th>\n",
       "      <th>File Name</th>\n",
       "    </tr>\n",
       "  </thead>\n",
       "  <tbody>\n",
       "    <tr>\n",
       "      <th>0</th>\n",
       "      <td>/home/lsh-ast/Downloads/ast/asvspoof/archive/A...</td>\n",
       "      <td>LA_T_2578586.flac</td>\n",
       "    </tr>\n",
       "    <tr>\n",
       "      <th>1</th>\n",
       "      <td>/home/lsh-ast/Downloads/ast/asvspoof/archive/A...</td>\n",
       "      <td>LA_T_5112179.flac</td>\n",
       "    </tr>\n",
       "    <tr>\n",
       "      <th>2</th>\n",
       "      <td>/home/lsh-ast/Downloads/ast/asvspoof/archive/A...</td>\n",
       "      <td>LA_T_3434954.flac</td>\n",
       "    </tr>\n",
       "    <tr>\n",
       "      <th>3</th>\n",
       "      <td>/home/lsh-ast/Downloads/ast/asvspoof/archive/A...</td>\n",
       "      <td>LA_T_6928938.flac</td>\n",
       "    </tr>\n",
       "    <tr>\n",
       "      <th>4</th>\n",
       "      <td>/home/lsh-ast/Downloads/ast/asvspoof/archive/A...</td>\n",
       "      <td>LA_T_5176249.flac</td>\n",
       "    </tr>\n",
       "  </tbody>\n",
       "</table>\n",
       "</div>"
      ],
      "text/plain": [
       "                                           File Path          File Name\n",
       "0  /home/lsh-ast/Downloads/ast/asvspoof/archive/A...  LA_T_2578586.flac\n",
       "1  /home/lsh-ast/Downloads/ast/asvspoof/archive/A...  LA_T_5112179.flac\n",
       "2  /home/lsh-ast/Downloads/ast/asvspoof/archive/A...  LA_T_3434954.flac\n",
       "3  /home/lsh-ast/Downloads/ast/asvspoof/archive/A...  LA_T_6928938.flac\n",
       "4  /home/lsh-ast/Downloads/ast/asvspoof/archive/A...  LA_T_5176249.flac"
      ]
     },
     "execution_count": 8,
     "metadata": {},
     "output_type": "execute_result"
    }
   ],
   "source": [
    "# Define the paths to the audio files\n",
    "la_paths = [\n",
    "    address+\"/ASVspoof2019_LA_train/flac\",\n",
    "]\n",
    "print(la_paths)\n",
    "\n",
    "# Combine file paths\n",
    "file_list = []\n",
    "for path in la_paths:\n",
    "    for root, _, files in os.walk(path):\n",
    "        for file in files:\n",
    "            if file.endswith(\".flac\"):\n",
    "                file_list.append({\"File Path\": os.path.join(root, file), \"File Name\": file})\n",
    "\n",
    "la_df = pd.DataFrame(file_list)\n",
    "print(f\"Total number of audio files: {len(la_df)}\")\n",
    "la_df.head()"
   ]
  },
  {
   "cell_type": "markdown",
   "metadata": {},
   "source": [
    "# **Extacting Important Featues From Metadata**"
   ]
  },
  {
   "cell_type": "code",
   "execution_count": 13,
   "metadata": {},
   "outputs": [
    {
     "name": "stdout",
     "output_type": "stream",
     "text": [
      "Saved the metadata to ../egs/asvspoof2021/train_la_data.csv\n"
     ]
    }
   ],
   "source": [
    "# Define the path to the metadata file\n",
    "la_metadata_path = address + \"/ASVspoof2019_LA_cm_protocols/ASVspoof2019.LA.cm.train.trn.txt\"\n",
    "\n",
    "la_train_labels = pd.read_csv(la_metadata_path, sep=' ', header=None)\n",
    "\n",
    "la_metadata = pd.read_csv(la_metadata_path, sep=\" \", header=None, names=[\"Speaker\", \"File Name\", \"Unknown1\", \"Unknown2\", \"Label\"])\n",
    "\n",
    "\n",
    "la_df[\"File Name\"] = la_df[\"File Name\"].str.replace(\".flac\", \"\")\n",
    "\n",
    "df_with_labels = pd.merge(la_df, la_metadata[[\"File Name\", \"Label\"]], on=\"File Name\", how=\"left\")\n",
    "\n",
    "output_path = \"../egs/asvspoof2021/train_la_data.csv\"\n",
    "\n",
    "df_with_labels.to_csv(output_path, index=False) \n",
    "print(f\"Saved the metadata to {output_path}\")\n",
    "\n"
   ]
  },
  {
   "cell_type": "markdown",
   "metadata": {},
   "source": [
    "# **Merging Metadata with Audio Files**"
   ]
  },
  {
   "cell_type": "markdown",
   "metadata": {},
   "source": [
    "* # Standardizing Audio data and Metadata"
   ]
  },
  {
   "cell_type": "code",
   "execution_count": 7,
   "metadata": {
    "trusted": true
   },
   "outputs": [
    {
     "name": "stdout",
     "output_type": "stream",
     "text": [
      "Audio DataFrame File Names:\n",
      "['DF_E_2522265.flac' 'DF_E_2249110.flac' 'DF_E_2594651.flac'\n",
      " 'DF_E_2445939.flac' 'DF_E_2117315.flac' 'DF_E_2141575.flac'\n",
      " 'DF_E_2542864.flac' 'DF_E_2520258.flac' 'DF_E_2473558.flac'\n",
      " 'DF_E_2667786.flac']\n",
      "\n",
      "Metadata DataFrame File Names:\n",
      "['DF_E_2000011' 'DF_E_2000013' 'DF_E_2000024' 'DF_E_2000026'\n",
      " 'DF_E_2000027' 'DF_E_2000028' 'DF_E_2000031' 'DF_E_2000032'\n",
      " 'DF_E_2000040' 'DF_E_2000042']\n"
     ]
    }
   ],
   "source": [
    "# Check the unique values in the File Name columns to understand the format\n",
    "print(\"Audio DataFrame File Names:\")\n",
    "print(deepfake_df['File Name'].unique()[:10])\n",
    "\n",
    "print(\"\\nMetadata DataFrame File Names:\")\n",
    "print(df_important_features['File Name'].unique()[:10])\n"
   ]
  },
  {
   "cell_type": "code",
   "execution_count": 8,
   "metadata": {
    "trusted": true
   },
   "outputs": [
    {
     "name": "stdout",
     "output_type": "stream",
     "text": [
      "Standardized deepfake DataFrame File Names:\n",
      "['df_e_2522265' 'df_e_2249110' 'df_e_2594651' 'df_e_2445939'\n",
      " 'df_e_2117315' 'df_e_2141575' 'df_e_2542864' 'df_e_2520258'\n",
      " 'df_e_2473558' 'df_e_2667786']\n",
      "\n",
      "Standardized Metadata DataFrame File Names:\n",
      "['df_e_2000011' 'df_e_2000013' 'df_e_2000024' 'df_e_2000026'\n",
      " 'df_e_2000027' 'df_e_2000028' 'df_e_2000031' 'df_e_2000032'\n",
      " 'df_e_2000040' 'df_e_2000042']\n"
     ]
    }
   ],
   "source": [
    "# Remove the .flac extension from the File Name in audio_df\n",
    "deepfake_df['File Name'] = deepfake_df['File Name'].str.replace('.flac', '')\n",
    "\n",
    "# Convert both to lowercase using .loc to avoid the SettingWithCopyWarning\n",
    "deepfake_df['File Name'] = deepfake_df['File Name'].str.lower()\n",
    "df_important_features.loc[:, 'File Name'] = df_important_features['File Name'].str.lower()\n",
    "\n",
    "# Print to check the standardized values\n",
    "print(\"Standardized deepfake DataFrame File Names:\")\n",
    "print(deepfake_df['File Name'].unique()[:10])\n",
    "\n",
    "print(\"\\nStandardized Metadata DataFrame File Names:\")\n",
    "print(df_important_features['File Name'].unique()[:10])\n"
   ]
  },
  {
   "cell_type": "code",
   "execution_count": 9,
   "metadata": {},
   "outputs": [
    {
     "name": "stdout",
     "output_type": "stream",
     "text": [
      "Standardized la_df File Names:\n",
      "['la_e_4141297' 'la_e_4012597' 'la_e_1550729' 'la_e_1627641'\n",
      " 'la_e_9987668' 'la_e_8170347' 'la_e_5541002' 'la_e_4728747'\n",
      " 'la_e_5933815' 'la_e_8475019']\n",
      "\n",
      "Standardized la_important_features File Names:\n",
      "['la_e_9332881' 'la_e_6866159' 'la_e_5464494' 'la_e_4759417'\n",
      " 'la_e_2667748' 'la_e_8589971' 'la_e_1911364' 'la_e_5298786'\n",
      " 'la_e_2042719' 'la_e_5449181']\n"
     ]
    }
   ],
   "source": [
    "# Remove the .flac extension from the File Name in la_df\n",
    "la_df['File Name'] = la_df['File Name'].str.replace('.flac', '')\n",
    "\n",
    "# Convert both to lowercase using .loc to avoid the SettingWithCopyWarning\n",
    "la_df['File Name'] = la_df['File Name'].str.lower()\n",
    "la_important_features.loc[:, 'File Name'] = la_important_features['File Name'].str.lower()\n",
    "\n",
    "# Print to check the standardized values\n",
    "print(\"Standardized la_df File Names:\")\n",
    "print(la_df['File Name'].unique()[:10])\n",
    "\n",
    "print(\"\\nStandardized la_important_features File Names:\")\n",
    "print(la_important_features['File Name'].unique()[:10])"
   ]
  },
  {
   "cell_type": "markdown",
   "metadata": {},
   "source": [
    "* # The Merge"
   ]
  },
  {
   "cell_type": "code",
   "execution_count": 10,
   "metadata": {
    "trusted": true
   },
   "outputs": [
    {
     "name": "stdout",
     "output_type": "stream",
     "text": [
      "Total number of combined records: 611829\n",
      "Total number of combined records: 181566\n"
     ]
    },
    {
     "data": {
      "text/html": [
       "<div>\n",
       "<style scoped>\n",
       "    .dataframe tbody tr th:only-of-type {\n",
       "        vertical-align: middle;\n",
       "    }\n",
       "\n",
       "    .dataframe tbody tr th {\n",
       "        vertical-align: top;\n",
       "    }\n",
       "\n",
       "    .dataframe thead th {\n",
       "        text-align: right;\n",
       "    }\n",
       "</style>\n",
       "<table border=\"1\" class=\"dataframe\">\n",
       "  <thead>\n",
       "    <tr style=\"text-align: right;\">\n",
       "      <th></th>\n",
       "      <th>File Path</th>\n",
       "      <th>File Name</th>\n",
       "      <th>Label</th>\n",
       "    </tr>\n",
       "  </thead>\n",
       "  <tbody>\n",
       "    <tr>\n",
       "      <th>0</th>\n",
       "      <td>/Users/minsmacbook/Documents/GitHub/ast/asvspo...</td>\n",
       "      <td>la_e_4141297</td>\n",
       "      <td>spoof</td>\n",
       "    </tr>\n",
       "    <tr>\n",
       "      <th>1</th>\n",
       "      <td>/Users/minsmacbook/Documents/GitHub/ast/asvspo...</td>\n",
       "      <td>la_e_4012597</td>\n",
       "      <td>spoof</td>\n",
       "    </tr>\n",
       "    <tr>\n",
       "      <th>2</th>\n",
       "      <td>/Users/minsmacbook/Documents/GitHub/ast/asvspo...</td>\n",
       "      <td>la_e_1550729</td>\n",
       "      <td>spoof</td>\n",
       "    </tr>\n",
       "    <tr>\n",
       "      <th>3</th>\n",
       "      <td>/Users/minsmacbook/Documents/GitHub/ast/asvspo...</td>\n",
       "      <td>la_e_1627641</td>\n",
       "      <td>spoof</td>\n",
       "    </tr>\n",
       "    <tr>\n",
       "      <th>4</th>\n",
       "      <td>/Users/minsmacbook/Documents/GitHub/ast/asvspo...</td>\n",
       "      <td>la_e_9987668</td>\n",
       "      <td>spoof</td>\n",
       "    </tr>\n",
       "    <tr>\n",
       "      <th>5</th>\n",
       "      <td>/Users/minsmacbook/Documents/GitHub/ast/asvspo...</td>\n",
       "      <td>la_e_8170347</td>\n",
       "      <td>spoof</td>\n",
       "    </tr>\n",
       "    <tr>\n",
       "      <th>6</th>\n",
       "      <td>/Users/minsmacbook/Documents/GitHub/ast/asvspo...</td>\n",
       "      <td>la_e_5541002</td>\n",
       "      <td>spoof</td>\n",
       "    </tr>\n",
       "    <tr>\n",
       "      <th>7</th>\n",
       "      <td>/Users/minsmacbook/Documents/GitHub/ast/asvspo...</td>\n",
       "      <td>la_e_4728747</td>\n",
       "      <td>spoof</td>\n",
       "    </tr>\n",
       "    <tr>\n",
       "      <th>8</th>\n",
       "      <td>/Users/minsmacbook/Documents/GitHub/ast/asvspo...</td>\n",
       "      <td>la_e_5933815</td>\n",
       "      <td>spoof</td>\n",
       "    </tr>\n",
       "    <tr>\n",
       "      <th>9</th>\n",
       "      <td>/Users/minsmacbook/Documents/GitHub/ast/asvspo...</td>\n",
       "      <td>la_e_8475019</td>\n",
       "      <td>spoof</td>\n",
       "    </tr>\n",
       "  </tbody>\n",
       "</table>\n",
       "</div>"
      ],
      "text/plain": [
       "                                           File Path     File Name  Label\n",
       "0  /Users/minsmacbook/Documents/GitHub/ast/asvspo...  la_e_4141297  spoof\n",
       "1  /Users/minsmacbook/Documents/GitHub/ast/asvspo...  la_e_4012597  spoof\n",
       "2  /Users/minsmacbook/Documents/GitHub/ast/asvspo...  la_e_1550729  spoof\n",
       "3  /Users/minsmacbook/Documents/GitHub/ast/asvspo...  la_e_1627641  spoof\n",
       "4  /Users/minsmacbook/Documents/GitHub/ast/asvspo...  la_e_9987668  spoof\n",
       "5  /Users/minsmacbook/Documents/GitHub/ast/asvspo...  la_e_8170347  spoof\n",
       "6  /Users/minsmacbook/Documents/GitHub/ast/asvspo...  la_e_5541002  spoof\n",
       "7  /Users/minsmacbook/Documents/GitHub/ast/asvspo...  la_e_4728747  spoof\n",
       "8  /Users/minsmacbook/Documents/GitHub/ast/asvspo...  la_e_5933815  spoof\n",
       "9  /Users/minsmacbook/Documents/GitHub/ast/asvspo...  la_e_8475019  spoof"
      ]
     },
     "execution_count": 10,
     "metadata": {},
     "output_type": "execute_result"
    }
   ],
   "source": [
    "# Merge the audio DataFrame with the metadata DataFrame on File Name\n",
    "combined_df_df= pd.merge(deepfake_df, df_important_features, on=\"File Name\")\n",
    "print(f\"Total number of combined records: {len(combined_df_df)}\")\n",
    "combined_df_df.head(10)\n",
    "\n",
    "combined_la_df= pd.merge(la_df, la_important_features, on=\"File Name\")\n",
    "print(f\"Total number of combined records: {len(combined_la_df)}\")\n",
    "combined_la_df.head(10)"
   ]
  },
  {
   "cell_type": "code",
   "execution_count": 11,
   "metadata": {
    "trusted": true
   },
   "outputs": [
    {
     "name": "stdout",
     "output_type": "stream",
     "text": [
      "Count of each label in the merged data:\n",
      "Label\n",
      "spoof       589212\n",
      "bonafide     22617\n",
      "Name: count, dtype: int64\n"
     ]
    }
   ],
   "source": [
    "# Count the occurrences of each label in the merged DataFrame\n",
    "label_counts = combined_df_df['Label'].value_counts()\n",
    "\n",
    "# Display the counts of each label\n",
    "print(\"Count of each label in the merged data:\")\n",
    "print(label_counts)"
   ]
  },
  {
   "cell_type": "code",
   "execution_count": 12,
   "metadata": {},
   "outputs": [
    {
     "name": "stdout",
     "output_type": "stream",
     "text": [
      "Count of each label in the merged data:\n",
      "Label\n",
      "spoof       163114\n",
      "bonafide     18452\n",
      "Name: count, dtype: int64\n"
     ]
    }
   ],
   "source": [
    "# Count the occurrences of each label in the merged DataFrame\n",
    "label_counts = combined_la_df['Label'].value_counts()\n",
    "\n",
    "# Display the counts of each label\n",
    "print(\"Count of each label in the merged data:\")\n",
    "print(label_counts)\n"
   ]
  },
  {
   "cell_type": "code",
   "execution_count": 13,
   "metadata": {
    "trusted": true
   },
   "outputs": [
    {
     "data": {
      "image/png": "[encoded data removed]",
      "text/plain": [
       "<Figure size 1000x600 with 1 Axes>"
      ]
     },
     "metadata": {},
     "output_type": "display_data"
    }
   ],
   "source": [
    "# Plot the distribution of labels to visualize the counts of each class\n",
    "plt.figure(figsize=(10, 6))\n",
    "sns.countplot(data=combined_df_df, x='Label')\n",
    "plt.title('Distribution of Labels in Merged DF Data')\n",
    "plt.xlabel('Label')\n",
    "plt.ylabel('Count')\n",
    "plt.show()"
   ]
  },
  {
   "cell_type": "code",
   "execution_count": 14,
   "metadata": {},
   "outputs": [
    {
     "data": {
      "image/png": "[encoded data removed]",
      "text/plain": [
       "<Figure size 1000x600 with 1 Axes>"
      ]
     },
     "metadata": {},
     "output_type": "display_data"
    }
   ],
   "source": [
    "# Plot the distribution of labels to visualize the counts of each class\n",
    "plt.figure(figsize=(10, 6))\n",
    "sns.countplot(data=combined_la_df, x='Label')\n",
    "plt.title('Distribution of Labels in Merged LA Data')\n",
    "plt.xlabel('Label')\n",
    "plt.ylabel('Count')\n",
    "plt.show()"
   ]
  },
  {
   "cell_type": "code",
   "execution_count": 15,
   "metadata": {},
   "outputs": [],
   "source": [
    "spoof_file1 = combined_df_df[\"File Path\"][0]"
   ]
  },
  {
   "cell_type": "code",
   "execution_count": 16,
   "metadata": {},
   "outputs": [
    {
     "name": "stderr",
     "output_type": "stream",
     "text": [
      "/var/folders/p6/mm69lnnx3wsbmyt08kyqdhrc0000gn/T/ipykernel_39451/1135571340.py:3: UserWarning: PySoundFile failed. Trying audioread instead.\n",
      "  audio_data, sr = librosa.load(file_path, sr=sample_rate)\n",
      "/Users/minsmacbook/Downloads/ENTER/envs/ultramic/lib/python3.12/site-packages/librosa/core/audio.py:184: FutureWarning: librosa.core.audio.__audioread_load\n",
      "\tDeprecated as of librosa version 0.10.0.\n",
      "\tIt will be removed in librosa version 1.0.\n",
      "  y, sr_native = __audioread_load(path, offset, duration, dtype)\n",
      "/var/folders/p6/mm69lnnx3wsbmyt08kyqdhrc0000gn/T/ipykernel_39451/1135571340.py:3: UserWarning: PySoundFile failed. Trying audioread instead.\n",
      "  audio_data, sr = librosa.load(file_path, sr=sample_rate)\n",
      "/Users/minsmacbook/Downloads/ENTER/envs/ultramic/lib/python3.12/site-packages/librosa/core/audio.py:184: FutureWarning: librosa.core.audio.__audioread_load\n",
      "\tDeprecated as of librosa version 0.10.0.\n",
      "\tIt will be removed in librosa version 1.0.\n",
      "  y, sr_native = __audioread_load(path, offset, duration, dtype)\n"
     ]
    },
    {
     "name": "stdout",
     "output_type": "stream",
     "text": [
      "Shape of the AST input: (1, 169, 128)\n",
      "Saving the spectrogram to HDF5 for DF data\n",
      "Processing 0th file\n"
     ]
    },
    {
     "ename": "ValueError",
     "evalue": "Unable to create dataset (name already exists)",
     "output_type": "error",
     "traceback": [
      "\u001b[0;31m---------------------------------------------------------------------------\u001b[0m",
      "\u001b[0;31mValueError\u001b[0m                                Traceback (most recent call last)",
      "Cell \u001b[0;32mIn[16], line 96\u001b[0m\n\u001b[1;32m     94\u001b[0m     title \u001b[39m=\u001b[39m combined_df_df[\u001b[39m'\u001b[39m\u001b[39mFile Name\u001b[39m\u001b[39m'\u001b[39m][i]\n\u001b[1;32m     95\u001b[0m     spectrogram \u001b[39m=\u001b[39m preprocess_for_ast(file_path, title)\n\u001b[0;32m---> 96\u001b[0m     save_spectrogram_to_hdf5(title, spectrogram, label, df_data_path)\n\u001b[1;32m     98\u001b[0m \u001b[39mprint\u001b[39m(\u001b[39m\"\u001b[39m\u001b[39mSaving the spectrogram to HDF5 for LA data\u001b[39m\u001b[39m\"\u001b[39m)\n\u001b[1;32m     99\u001b[0m \u001b[39mfor\u001b[39;00m i \u001b[39min\u001b[39;00m \u001b[39mrange\u001b[39m(\u001b[39mlen\u001b[39m(combined_la_df)):\n",
      "Cell \u001b[0;32mIn[16], line 75\u001b[0m, in \u001b[0;36msave_spectrogram_to_hdf5\u001b[0;34m(file_name, spectrogram, label, hdf5_path)\u001b[0m\n\u001b[1;32m     73\u001b[0m \u001b[39mdef\u001b[39;00m \u001b[39msave_spectrogram_to_hdf5\u001b[39m(file_name, spectrogram, label, hdf5_path\u001b[39m=\u001b[39m\u001b[39m'\u001b[39m\u001b[39mspectrograms.h5\u001b[39m\u001b[39m'\u001b[39m):\n\u001b[1;32m     74\u001b[0m     \u001b[39mwith\u001b[39;00m h5py\u001b[39m.\u001b[39mFile(hdf5_path, \u001b[39m'\u001b[39m\u001b[39ma\u001b[39m\u001b[39m'\u001b[39m) \u001b[39mas\u001b[39;00m h5f:\n\u001b[0;32m---> 75\u001b[0m         dataset \u001b[39m=\u001b[39m h5f\u001b[39m.\u001b[39mcreate_dataset(file_name, data\u001b[39m=\u001b[39mspectrogram)\n\u001b[1;32m     76\u001b[0m         dataset\u001b[39m.\u001b[39mattrs[\u001b[39m'\u001b[39m\u001b[39mlabel\u001b[39m\u001b[39m'\u001b[39m] \u001b[39m=\u001b[39m label\n",
      "File \u001b[0;32m~/Downloads/ENTER/envs/ultramic/lib/python3.12/site-packages/h5py/_hl/group.py:183\u001b[0m, in \u001b[0;36mGroup.create_dataset\u001b[0;34m(self, name, shape, dtype, data, **kwds)\u001b[0m\n\u001b[1;32m    180\u001b[0m         parent_path, name \u001b[39m=\u001b[39m name\u001b[39m.\u001b[39mrsplit(\u001b[39mb\u001b[39m\u001b[39m'\u001b[39m\u001b[39m/\u001b[39m\u001b[39m'\u001b[39m, \u001b[39m1\u001b[39m)\n\u001b[1;32m    181\u001b[0m         group \u001b[39m=\u001b[39m \u001b[39mself\u001b[39m\u001b[39m.\u001b[39mrequire_group(parent_path)\n\u001b[0;32m--> 183\u001b[0m dsid \u001b[39m=\u001b[39m dataset\u001b[39m.\u001b[39mmake_new_dset(group, shape, dtype, data, name, \u001b[39m*\u001b[39m\u001b[39m*\u001b[39mkwds)\n\u001b[1;32m    184\u001b[0m dset \u001b[39m=\u001b[39m dataset\u001b[39m.\u001b[39mDataset(dsid)\n\u001b[1;32m    185\u001b[0m \u001b[39mreturn\u001b[39;00m dset\n",
      "File \u001b[0;32m~/Downloads/ENTER/envs/ultramic/lib/python3.12/site-packages/h5py/_hl/dataset.py:165\u001b[0m, in \u001b[0;36mmake_new_dset\u001b[0;34m(parent, shape, dtype, data, name, chunks, compression, shuffle, fletcher32, maxshape, compression_opts, fillvalue, scaleoffset, track_times, external, track_order, dcpl, dapl, efile_prefix, virtual_prefix, allow_unknown_filter, rdcc_nslots, rdcc_nbytes, rdcc_w0, fill_time)\u001b[0m\n\u001b[1;32m    162\u001b[0m \u001b[39melse\u001b[39;00m:\n\u001b[1;32m    163\u001b[0m     sid \u001b[39m=\u001b[39m h5s\u001b[39m.\u001b[39mcreate_simple(shape, maxshape)\n\u001b[0;32m--> 165\u001b[0m dset_id \u001b[39m=\u001b[39m h5d\u001b[39m.\u001b[39mcreate(parent\u001b[39m.\u001b[39mid, name, tid, sid, dcpl\u001b[39m=\u001b[39mdcpl, dapl\u001b[39m=\u001b[39mdapl)\n\u001b[1;32m    167\u001b[0m \u001b[39mif\u001b[39;00m (data \u001b[39mis\u001b[39;00m \u001b[39mnot\u001b[39;00m \u001b[39mNone\u001b[39;00m) \u001b[39mand\u001b[39;00m (\u001b[39mnot\u001b[39;00m \u001b[39misinstance\u001b[39m(data, Empty)):\n\u001b[1;32m    168\u001b[0m     dset_id\u001b[39m.\u001b[39mwrite(h5s\u001b[39m.\u001b[39mALL, h5s\u001b[39m.\u001b[39mALL, data)\n",
      "File \u001b[0;32mh5py/_objects.pyx:54\u001b[0m, in \u001b[0;36mh5py._objects.with_phil.wrapper\u001b[0;34m()\u001b[0m\n",
      "File \u001b[0;32mh5py/_objects.pyx:55\u001b[0m, in \u001b[0;36mh5py._objects.with_phil.wrapper\u001b[0;34m()\u001b[0m\n",
      "File \u001b[0;32mh5py/h5d.pyx:136\u001b[0m, in \u001b[0;36mh5py.h5d.create\u001b[0;34m()\u001b[0m\n",
      "\u001b[0;31mValueError\u001b[0m: Unable to create dataset (name already exists)"
     ]
    }
   ],
   "source": [
    "# Load the .flac file\n",
    "def load_audio(file_path, sample_rate=16000):\n",
    "    audio_data, sr = librosa.load(file_path, sr=sample_rate)\n",
    "    return audio_data, sr\n",
    "\n",
    "# Generate the 128-dimensional log Mel filterbank features (fbank)\n",
    "def generate_mel_spectrogram(audio_data, sample_rate, n_fft=400, hop_length=160, n_mels=128):\n",
    "    mel_spectrogram = librosa.feature.melspectrogram(\n",
    "        y=audio_data,\n",
    "        sr=sample_rate,\n",
    "        n_fft=n_fft,\n",
    "        hop_length=hop_length,\n",
    "        n_mels=n_mels\n",
    "    )\n",
    "    return mel_spectrogram\n",
    "\n",
    "# Convert Mel-spectrogram to log scale (log Mel-spectrogram)\n",
    "def log_mel_spectrogram(mel_spectrogram):\n",
    "    log_mel = librosa.power_to_db(mel_spectrogram, ref=np.max)\n",
    "    return log_mel\n",
    "\n",
    "# Normalize the log Mel-spectrogram to a range that fits AST expectations\n",
    "def normalize_spectrogram(spectrogram):\n",
    "    mean = np.mean(spectrogram)\n",
    "    std = np.std(spectrogram)\n",
    "    normalized_spectrogram = (spectrogram - mean) / std\n",
    "    normalized_spectrogram = normalized_spectrogram * 0.5  # Adjusting scale\n",
    "    return normalized_spectrogram\n",
    "\n",
    "# Function to plot the log Mel-spectrogram\n",
    "def plot_spectrogram(log_mel_spectrogram, sample_rate, hop_length, title):\n",
    "    plt.figure(figsize=(10, 6))\n",
    "    librosa.display.specshow(log_mel_spectrogram, \n",
    "                             sr=sample_rate, \n",
    "                             hop_length=hop_length, \n",
    "                             x_axis='time', \n",
    "                             y_axis='mel', \n",
    "                             fmax=sample_rate // 2)\n",
    "    plt.colorbar(format='%+2.0f dB')\n",
    "    plt.title(title)\n",
    "    plt.tight_layout()\n",
    "    plt.show()\n",
    "\n",
    "# Reshape the spectrogram to (1, time, frequency) for AST\n",
    "def reshape_spectrogram(spectrogram):\n",
    "    # Ensure shape (num_channels=1, time, frequency)\n",
    "    return np.expand_dims(spectrogram.T, axis=0)  # Transpose to (time, frequency) before expanding\n",
    "        \n",
    "\n",
    "# Main function\n",
    "def preprocess_for_ast(file_path, title):\n",
    "    # Load the audio\n",
    "    audio_data, sample_rate = load_audio(file_path)\n",
    "\n",
    "    # Generate Mel-spectrogram with 25ms window and 10ms hop length\n",
    "    mel_spectrogram = generate_mel_spectrogram(audio_data, sample_rate)\n",
    "\n",
    "    # Convert Mel-spectrogram to log scale\n",
    "    log_mel = log_mel_spectrogram(mel_spectrogram)\n",
    "\n",
    "    # Normalize the spectrogram\n",
    "    normalized_spectrogram = normalize_spectrogram(log_mel)\n",
    "\n",
    "    # # Plot the log Mel-spectrogram\n",
    "    # plot_spectrogram(log_mel, sample_rate, hop_length=160, title=title)\n",
    "\n",
    "    # Reshape for AST input\n",
    "    ast_input = reshape_spectrogram(normalized_spectrogram)\n",
    "\n",
    "    return ast_input\n",
    "\n",
    "# Function to save spectrograms and labels in HDF5\n",
    "def save_spectrogram_to_hdf5(file_name, spectrogram, label, hdf5_path='spectrograms.h5'):\n",
    "    with h5py.File(hdf5_path, 'a') as h5f:\n",
    "        dataset = h5f.create_dataset(file_name, data=spectrogram)\n",
    "        dataset.attrs['label'] = label\n",
    "\n",
    "\n",
    "\n",
    "spoof_input1 = preprocess_for_ast(spoof_file1, title='Spoof Audio 1')\n",
    "print(f\"Shape of the AST input: {spoof_input1.shape}\")\n",
    "\n",
    "\n",
    "df_data_path = address + 'df_spectrograms.h5'\n",
    "la_data_path = address + 'la_spectrograms.h5'\n",
    "\n",
    "# Save the spectrogram to HDF5\n",
    "print(\"Saving the spectrogram to HDF5 for DF data\")\n",
    "for i in range(len(combined_df_df)):\n",
    "    if(i%1000 == 0):\n",
    "        print(f\"Processing {i}th file\")\n",
    "    file_path = combined_df_df['File Path'][i]\n",
    "    label = combined_df_df['Label'][i]\n",
    "    title = combined_df_df['File Name'][i]\n",
    "    spectrogram = preprocess_for_ast(file_path, title)\n",
    "    save_spectrogram_to_hdf5(title, spectrogram, label, df_data_path)\n",
    "\n",
    "print(\"Saving the spectrogram to HDF5 for LA data\")\n",
    "for i in range(len(combined_la_df)):\n",
    "    if(i%1000 == 0):\n",
    "        print(f\"Processing {i}th file\")\n",
    "    file_path = combined_la_df['File Path'][i]\n",
    "    label = combined_la_df['Label'][i]\n",
    "    title = combined_la_df['File Name'][i]\n",
    "    spectrogram = preprocess_for_ast(file_path, title)\n",
    "    save_spectrogram_to_hdf5(title, spectrogram, label, la_data_path)\n",
    "\n",
    "\n"
   ]
  },
  {
   "cell_type": "markdown",
   "metadata": {},
   "source": [
    "# **Save Combined Data with Metadata to CSV**"
   ]
  },
  {
   "cell_type": "code",
   "execution_count": null,
   "metadata": {
    "trusted": true
   },
   "outputs": [],
   "source": [
    "# Save Combined Data with Metadata to CSV\n",
    "combined_df_data_csv_path = os.getcwd()+\"/combined_df_data.csv\"\n",
    "combined_la_data_csv_path = os.getcwd()+\"/combined_la_data.csv\"\n",
    "combined_df_df.to_csv(combined_df_data_csv_path, index=False)\n",
    "combined_la_df.to_csv(combined_la_data_csv_path, index=False)"
   ]
  },
  {
   "cell_type": "markdown",
   "metadata": {},
   "source": [
    "# **Split the Data into Train, Validation, and Test Sets**"
   ]
  },
  {
   "cell_type": "code",
   "execution_count": null,
   "metadata": {
    "trusted": true
   },
   "outputs": [],
   "source": [
    "# Split the data into train (70%), validation (15%), and test (15%) sets\n",
    "train_df, temp_df = train_test_split(combined_df_df, test_size=0.30, random_state=42)\n",
    "val_df, test_df = train_test_split(temp_df, test_size=0.50, random_state=42)\n",
    "\n",
    "# Print the number of samples in each set\n",
    "print(f\"Training set size: {len(train_df)}\")\n",
    "print(f\"Validation set size: {len(val_df)}\")\n",
    "print(f\"Test set size: {len(test_df)}\")\n"
   ]
  },
  {
   "cell_type": "markdown",
   "metadata": {},
   "source": [
    "# **Save Train, Validation, and Test Sets to CSV**"
   ]
  },
  {
   "cell_type": "code",
   "execution_count": null,
   "metadata": {
    "trusted": true
   },
   "outputs": [],
   "source": [
    "# Save Train, Validation, and Test Sets to CSV\n",
    "train_csv_path = \"/kaggle/working/train_set.csv\"\n",
    "val_csv_path = \"/kaggle/working/validation_set.csv\"\n",
    "test_csv_path = \"/kaggle/working/test_set.csv\"\n",
    "\n",
    "train_df.to_csv(train_csv_path, index=False)\n",
    "val_df.to_csv(val_csv_path, index=False)\n",
    "test_df.to_csv(test_csv_path, index=False)"
   ]
  },
  {
   "cell_type": "markdown",
   "metadata": {
    "id": "WMLwS4IWglcF"
   },
   "source": [
    "# **Reading in Audio Files**"
   ]
  },
  {
   "cell_type": "code",
   "execution_count": null,
   "metadata": {
    "trusted": true
   },
   "outputs": [],
   "source": [
    "# Read CSV files into pandas DataFrames\n",
    "train_data_path = \"/kaggle/input/asvspoof-2021-csvs/train_set.csv\"\n",
    "train_df = pd.read_csv(train_data_path)\n",
    "\n",
    "# Check the structure of the combined DataFrame\n",
    "print(\"Train DataFrame:\")\n",
    "train_df.head()"
   ]
  },
  {
   "cell_type": "code",
   "execution_count": null,
   "metadata": {
    "trusted": true
   },
   "outputs": [],
   "source": [
    "# Use the paths in the CSV files to get a list of audio files\n",
    "audio_files = train_df['File Path'].tolist()\n",
    "\n",
    "# Check the number of audio files\n",
    "print(f\"Total number of audio files: {len(audio_files)}\")\n",
    "\n",
    "# Choose a random audio file\n",
    "random_index = random.randint(0, len(audio_files) - 1)\n",
    "\n",
    "# Print the path corresponding to the random index\n",
    "print(f\"Random audio file example: \\n{audio_files[random_index]}\")"
   ]
  },
  {
   "cell_type": "code",
   "execution_count": null,
   "metadata": {
    "trusted": true
   },
   "outputs": [],
   "source": [
    "# Filter for spoof and bonafide files\n",
    "spoof_files = train_df[train_df['Label'] == 'spoof'].reset_index(drop=True)\n",
    "bonafide_files = train_df[train_df['Label'] == 'bonafide'].reset_index(drop=True)\n",
    "\n",
    "# Check the number of files in each category\n",
    "print(f\"Total number of spoof files: {len(spoof_files)}\")\n",
    "print(f\"Total number of bonafide files: {len(bonafide_files)}\")\n"
   ]
  },
  {
   "cell_type": "markdown",
   "metadata": {},
   "source": [
    "# **Visualizing Samples**"
   ]
  },
  {
   "cell_type": "markdown",
   "metadata": {},
   "source": [
    "# Real"
   ]
  },
  {
   "cell_type": "code",
   "execution_count": null,
   "metadata": {
    "trusted": true
   },
   "outputs": [],
   "source": [
    "# Choose a random bonafide audio file\n",
    "random_bonafide_index = random.randint(0, len(bonafide_files) - 1)\n",
    "random_bonafide_audio_file = bonafide_files.iloc[random_bonafide_index]\n",
    "\n",
    "print(f\"> File Name: {random_bonafide_audio_file['File Name']} | Label: {random_bonafide_audio_file['Label']}\")\n",
    "\n",
    "# Load the random bonafide audio file\n",
    "bonafide_signal, bonafide_sample_rate = librosa.load(random_bonafide_audio_file['File Path'])\n",
    "\n",
    "# play audio files\n",
    "ipd.display(ipd.Audio(random_bonafide_audio_file['File Path']))\n",
    "\n",
    "pd.Series(bonafide_signal).plot(figsize=(10, 5),\n",
    "                  lw=1,\n",
    "                  title='Raw Boanfide Audio Waveform',\n",
    "                  color= color_pal[0])\n",
    "plt.xlabel(\"Time\")\n",
    "plt.ylabel(\"Amplitude\")\n",
    "plt.show()"
   ]
  },
  {
   "cell_type": "code",
   "execution_count": null,
   "metadata": {
    "trusted": true
   },
   "outputs": [],
   "source": [
    "bonafide_signal_trimmed,_ = librosa.effects.trim(y=bonafide_signal, top_db=40)\n",
    "\n",
    "pd.Series(bonafide_signal_trimmed).plot(figsize=(10,5), \n",
    "                               lw=1, \n",
    "                               title='Raw Boanfide Audio Trimmed Waveform', \n",
    "                               color=color_pal[1])\n",
    "\n",
    "plt.xlabel(\"Time\")\n",
    "plt.ylabel(\"Amplitude\")\n",
    "plt.show()"
   ]
  },
  {
   "cell_type": "code",
   "execution_count": null,
   "metadata": {
    "id": "gcgoon6BHqh-",
    "trusted": true
   },
   "outputs": [],
   "source": [
    "pd.Series(bonafide_signal[30000:31000]).plot(figsize=(10, 5),\n",
    "                  lw=1,\n",
    "                  title='Raw Bonafide Audio Zoomed In Waveform',\n",
    "                  color= color_pal[2])\n",
    "plt.xlabel(\"Time\")\n",
    "plt.ylabel(\"Amplitude\")\n",
    "plt.show()"
   ]
  },
  {
   "cell_type": "markdown",
   "metadata": {},
   "source": [
    "# Fake"
   ]
  },
  {
   "cell_type": "code",
   "execution_count": null,
   "metadata": {
    "trusted": true
   },
   "outputs": [],
   "source": [
    "# Choose a random spoof audio file\n",
    "random_spoof_index = random.randint(0, len(spoof_files) - 1)\n",
    "random_spoof_audio_file = spoof_files.iloc[random_spoof_index]\n",
    "\n",
    "print(f'> File Name: {random_spoof_audio_file[\"File Name\"]} | Label: {random_spoof_audio_file[\"Label\"]}')\n",
    "\n",
    "# Load the random spoof audio file\n",
    "spoof_signal, spoof_sample_rate = librosa.load(random_spoof_audio_file['File Path'])\n",
    "\n",
    "# play audio files\n",
    "ipd.display(ipd.Audio(random_spoof_audio_file['File Path']))\n",
    "\n",
    "pd.Series(spoof_signal).plot(figsize=(10, 5),\n",
    "                  lw=1,\n",
    "                  title='Raw Spoof Audio Waveform',\n",
    "                  color= color_pal[0])\n",
    "plt.xlabel(\"Time\")\n",
    "plt.ylabel(\"Amplitude\")\n",
    "plt.show()"
   ]
  },
  {
   "cell_type": "code",
   "execution_count": null,
   "metadata": {
    "trusted": true
   },
   "outputs": [],
   "source": [
    "spoof_signal_trimmed,_ = librosa.effects.trim(y=spoof_signal, top_db=40)\n",
    "\n",
    "pd.Series(spoof_signal_trimmed).plot(figsize=(10,5), \n",
    "                               lw=1, \n",
    "                               title='Raw Audio Spoof Trimmed Waveform', \n",
    "                               color=color_pal[1])\n",
    "\n",
    "plt.xlabel(\"Time\")\n",
    "plt.ylabel(\"Amplitude\")\n",
    "plt.show()"
   ]
  },
  {
   "cell_type": "code",
   "execution_count": null,
   "metadata": {
    "trusted": true
   },
   "outputs": [],
   "source": [
    "pd.Series(spoof_signal[30000:31000]).plot(figsize=(10, 5),\n",
    "                  lw=1,\n",
    "                  title='Raw Spoof Audio Zoomed In Waveform',\n",
    "                  color= color_pal[2])\n",
    "plt.xlabel(\"Time\")\n",
    "plt.ylabel(\"Amplitude\")\n",
    "plt.show()"
   ]
  },
  {
   "cell_type": "markdown",
   "metadata": {
    "id": "49QREc3pj4Kv"
   },
   "source": [
    "# **Fast Fouier Transform**"
   ]
  },
  {
   "cell_type": "code",
   "execution_count": null,
   "metadata": {
    "trusted": true
   },
   "outputs": [],
   "source": [
    "# FFT of the spoof audio file\n",
    "fft_spoof = np.fft.fft(spoof_signal)\n",
    "magnitude_spoof = np.abs(fft_spoof)\n",
    "frequency_spoof = np.linspace(0, spoof_sample_rate, len(magnitude_spoof))\n",
    "\n",
    "left_frequency_spoof = frequency_spoof[:int(len(frequency_spoof)/2)]\n",
    "left_magnitude_spoof = magnitude_spoof[:int(len(frequency_spoof)/2)]\n",
    "\n",
    "# FFT of the bonafide audio file\n",
    "fft_bonafide = np.fft.fft(bonafide_signal)\n",
    "magnitude_bonafide = np.abs(fft_bonafide)\n",
    "frequency_bonafide = np.linspace(0, bonafide_sample_rate, len(magnitude_bonafide))\n",
    "\n",
    "left_frequency_bonafide = frequency_bonafide[:int(len(frequency_bonafide)/2)]\n",
    "left_magnitude_bonafide = magnitude_bonafide[:int(len(frequency_bonafide)/2)]\n",
    "\n",
    "# Plot the FFTs side by side\n",
    "fig, ax = plt.subplots(1, 2, figsize=(15, 5))\n",
    "\n",
    "# Plot FFT of spoof audio\n",
    "ax[0].plot(left_frequency_spoof, left_magnitude_spoof, color='blue')\n",
    "ax[0].set_title('FFT of Spoof Audio')\n",
    "ax[0].set_xlabel('Frequency')\n",
    "ax[0].set_ylabel('Magnitude')\n",
    "\n",
    "# Plot FFT of bonafide audio\n",
    "ax[1].plot(left_frequency_bonafide, left_magnitude_bonafide, color='green')\n",
    "ax[1].set_title('FFT of Bonafide Audio')\n",
    "ax[1].set_xlabel('Frequency')\n",
    "ax[1].set_ylabel('Magnitude')\n",
    "\n",
    "plt.tight_layout()\n",
    "plt.show()"
   ]
  },
  {
   "cell_type": "markdown",
   "metadata": {
    "id": "5lT2uoPDhtjC"
   },
   "source": [
    "# **Spectogram**"
   ]
  },
  {
   "cell_type": "code",
   "execution_count": null,
   "metadata": {
    "id": "VbOB0-dOITR-",
    "trusted": true
   },
   "outputs": [],
   "source": [
    "# Compute the Short-Time Fourier Transform (STFT) for both audio files\n",
    "D_spoof = librosa.stft(spoof_signal_trimmed) #finds the Short term fourier transform\n",
    "\n",
    "D_bonafide = librosa.stft(bonafide_signal_trimmed) #finds the Short term fourier transform\n",
    "\n",
    "# Convert the amplitude to decibels\n",
    "S_db_spoof = librosa.amplitude_to_db(np.abs(D_spoof), ref=np.max)\n",
    "\n",
    "S_db_bonafide = librosa.amplitude_to_db(np.abs(D_bonafide), ref=np.max)"
   ]
  },
  {
   "cell_type": "code",
   "execution_count": null,
   "metadata": {
    "id": "coaatUWtJe24",
    "trusted": true
   },
   "outputs": [],
   "source": [
    "# Plot the spectrograms side by side\n",
    "fig, ax = plt.subplots(1, 2, figsize=(20, 8))\n",
    "\n",
    "# Plot spectrogram of spoof audio\n",
    "img_spoof = librosa.display.specshow(S_db_spoof,\n",
    "                               x_axis='time',\n",
    "                               y_axis='log',\n",
    "                               ax = ax[0])\n",
    "ax[0].set_title('Spectogram of Spoof audio', fontsize=20)\n",
    "fig.colorbar(img_spoof, ax=ax[0], format= f'%0.2f dB')\n",
    "ax[0].set_xlabel(\"Time\")\n",
    "ax[0].set_ylabel(\"Frequency\")\n",
    "\n",
    "# Plot spectrogram of bonafide audio\n",
    "img_bonafide = librosa.display.specshow(S_db_bonafide,\n",
    "                               x_axis='time',\n",
    "                               y_axis='log',\n",
    "                               ax = ax[1])\n",
    "ax[1].set_title('Spectogram of Boanfide audio', fontsize=20)\n",
    "fig.colorbar(img_bonafide, ax=ax[1], format= f'%0.2f dB')\n",
    "ax[1].set_xlabel(\"Time\")\n",
    "ax[1].set_ylabel(\"Frequency\")\n",
    "\n",
    "plt.tight_layout()\n",
    "plt.show()"
   ]
  },
  {
   "cell_type": "markdown",
   "metadata": {
    "id": "0oimuibTiSeY"
   },
   "source": [
    "# **Mel Spectrogram**"
   ]
  },
  {
   "cell_type": "code",
   "execution_count": null,
   "metadata": {
    "id": "4b6fbc3IQADj",
    "trusted": true
   },
   "outputs": [],
   "source": [
    "# Compute the Mel Spectrogram for both audio files\n",
    "S_spoof = librosa.feature.melspectrogram(y=spoof_signal_trimmed,\n",
    "                               sr=spoof_sample_rate,\n",
    "                               n_mels=128)\n",
    "\n",
    "S_bonafide = librosa.feature.melspectrogram(y=bonafide_signal_trimmed,\n",
    "                               sr=bonafide_sample_rate,\n",
    "                               n_mels=128)\n",
    "\n",
    "# Convert the amplitude to decibels\n",
    "S_db_mel_spoof = librosa.amplitude_to_db(S_spoof, ref=np.max)\n",
    "\n",
    "S_db_mel_bonafide = librosa.amplitude_to_db(S_bonafide, ref=np.max)"
   ]
  },
  {
   "cell_type": "code",
   "execution_count": null,
   "metadata": {
    "id": "3K5FsOf1RwSV",
    "trusted": true
   },
   "outputs": [],
   "source": [
    "# Plot the spectrograms side by side\n",
    "fig, ax = plt.subplots(1, 2, figsize=(20, 8))\n",
    "\n",
    "# plot the mel spectogram of spoof audio\n",
    "mel_img_spoof = librosa.display.specshow(S_db_mel_spoof,\n",
    "                               x_axis='time',\n",
    "                               y_axis='log',\n",
    "                               ax = ax[0])\n",
    "ax[0].set_title('Mel Spectogram of Spoof Audio', fontsize=20)\n",
    "fig.colorbar(mel_img_spoof, ax=ax[0], format= f'%0.2f dB')\n",
    "\n",
    "# plot the mel spectogram of bonafide audio\n",
    "mel_img_bonafide = librosa.display.specshow(S_db_mel_bonafide,\n",
    "                               x_axis='time',\n",
    "                               y_axis='log',\n",
    "                               ax = ax[1])\n",
    "ax[1].set_title('Mel Spectogram of Bonafide Audio', fontsize=20)\n",
    "fig.colorbar(mel_img_bonafide, ax=ax[1], format= f'%0.2f dB')\n",
    "\n",
    "plt.tight_layout()\n",
    "plt.show()"
   ]
  },
  {
   "cell_type": "markdown",
   "metadata": {
    "id": "ENY4H9hblug3"
   },
   "source": [
    "# **MFCC**"
   ]
  },
  {
   "cell_type": "code",
   "execution_count": null,
   "metadata": {
    "trusted": true
   },
   "outputs": [],
   "source": [
    "import librosa.display\n",
    "\n",
    "# Define the parameters for MFCC\n",
    "n_fft = 2048\n",
    "hop_length = 512\n",
    "n_mfcc = 13\n",
    "\n",
    "# Compute MFCCs for the spoof audio file\n",
    "MFCCs_spoof = librosa.feature.mfcc(y=spoof_signal_trimmed, \n",
    "                                   sr=spoof_sample_rate, \n",
    "                                   n_fft=n_fft, \n",
    "                                   hop_length=hop_length, \n",
    "                                   n_mfcc=n_mfcc)\n",
    "\n",
    "# Compute MFCCs for the bonafide audio file\n",
    "MFCCs_bonafide = librosa.feature.mfcc(y=bonafide_signal_trimmed, \n",
    "                                      sr=bonafide_sample_rate, \n",
    "                                      n_fft=n_fft, \n",
    "                                      hop_length=hop_length, \n",
    "                                      n_mfcc=n_mfcc)\n",
    "\n",
    "# Plot the MFCCs side by side\n",
    "fig, ax = plt.subplots(1, 2, figsize=(20, 8))\n",
    "\n",
    "# Plot MFCCs of spoof audio\n",
    "img_MFCC_spoof = librosa.display.specshow(MFCCs_spoof, \n",
    "                         sr=spoof_sample_rate, \n",
    "                         hop_length=hop_length, \n",
    "                         x_axis='time', \n",
    "                         ax=ax[0])\n",
    "\n",
    "ax[0].set_title('MFCC of Spoof Audio', fontsize=20)\n",
    "ax[0].set_xlabel(\"Time\")\n",
    "ax[0].set_ylabel(\"MFCC Coefficients\")\n",
    "fig.colorbar(img_MFCC_spoof, ax=ax[0], format='%+2.0f dB')\n",
    "\n",
    "# Plot MFCCs of bonafide audio\n",
    "img_MFCC_bonafide = librosa.display.specshow(MFCCs_bonafide, \n",
    "                         sr=bonafide_sample_rate, \n",
    "                         hop_length=hop_length, \n",
    "                         x_axis='time', \n",
    "                         ax=ax[1])\n",
    "\n",
    "ax[1].set_title('MFCC of Bonafide Audio', fontsize=20)\n",
    "ax[1].set_xlabel(\"Time\")\n",
    "ax[1].set_ylabel(\"MFCC Coefficients\")\n",
    "fig.colorbar(img_MFCC_bonafide, ax=ax[1], format='%+2.0f dB')\n",
    "\n",
    "plt.tight_layout()\n",
    "plt.show()\n"
   ]
  },
  {
   "cell_type": "code",
   "execution_count": null,
   "metadata": {
    "trusted": true
   },
   "outputs": [],
   "source": [
    "# Perform EDA on the training data\n",
    "train_df.describe()"
   ]
  },
  {
   "cell_type": "code",
   "execution_count": null,
   "metadata": {
    "trusted": true
   },
   "outputs": [],
   "source": [
    "# Plot distribution of codecs\n",
    "plt.figure(figsize=(10, 6))\n",
    "sns.countplot(data=train_df, x='Codec')\n",
    "plt.title('Distribution of Codecs in Training Data')\n",
    "plt.show()"
   ]
  },
  {
   "cell_type": "code",
   "execution_count": null,
   "metadata": {
    "trusted": true
   },
   "outputs": [],
   "source": [
    "# Plot distribution of vocoder types\n",
    "plt.figure(figsize=(20, 12))\n",
    "sns.countplot(data=train_df, x='Vocoder Type')\n",
    "plt.title('Distribution of Vocoder Types in Training Data')\n",
    "plt.show()"
   ]
  },
  {
   "cell_type": "code",
   "execution_count": null,
   "metadata": {
    "trusted": true
   },
   "outputs": [],
   "source": [
    "# Plot distribution of labels\n",
    "plt.figure(figsize=(10, 4))\n",
    "sns.countplot(data=train_df, x='Label')\n",
    "plt.title('Distribution of Labels in Training Data')\n",
    "plt.show()"
   ]
  },
  {
   "cell_type": "code",
   "execution_count": null,
   "metadata": {
    "trusted": true
   },
   "outputs": [],
   "source": [
    "test_df.describe()"
   ]
  },
  {
   "cell_type": "code",
   "execution_count": null,
   "metadata": {
    "trusted": true
   },
   "outputs": [],
   "source": [
    "# Plot distribution of labels\n",
    "plt.figure(figsize=(10, 6))\n",
    "sns.countplot(data=test_df, x='Label')\n",
    "plt.title('Distribution of Labels in Training Data')\n",
    "plt.show()"
   ]
  },
  {
   "cell_type": "code",
   "execution_count": null,
   "metadata": {
    "trusted": true
   },
   "outputs": [],
   "source": [
    "import pandas as pd\n",
    "import numpy as np\n",
    "import matplotlib.pyplot as plt\n",
    "import seaborn as sns\n",
    "import librosa\n",
    "from tqdm import tqdm\n",
    "\n",
    "# Load the combined CSV file\n",
    "combined_data_path = \"/kaggle/input/asvspoof-2021-csvs/combined_data.csv\"\n",
    "combined_df_df = pd.read_csv(combined_data_path)\n",
    "\n",
    "# Display the first few rows of the DataFrame\n",
    "print(\"Combined DataFrame:\")\n",
    "combined_df.head()\n"
   ]
  },
  {
   "cell_type": "code",
   "execution_count": null,
   "metadata": {
    "trusted": true
   },
   "outputs": [],
   "source": [
    "# Display basic information about the DataFrame\n",
    "print(\"Basic Information:\")\n",
    "combined_df.info()\n",
    "\n",
    "# Display summary statistics of the DataFrame\n",
    "print(\"Summary Statistics:\")\n",
    "combined_df.describe(include='all')\n"
   ]
  },
  {
   "cell_type": "code",
   "execution_count": null,
   "metadata": {
    "trusted": true
   },
   "outputs": [],
   "source": [
    "# Plot the distribution of labels\n",
    "plt.figure(figsize=(8, 6))\n",
    "sns.countplot(data=combined_df, x='Label', palette='viridis')\n",
    "plt.title('Distribution of Labels (Spoof vs Bonafide)')\n",
    "plt.xlabel('Label')\n",
    "plt.ylabel('Count')\n",
    "plt.show()"
   ]
  },
  {
   "cell_type": "code",
   "execution_count": null,
   "metadata": {
    "trusted": true
   },
   "outputs": [],
   "source": [
    "# Function to calculate the duration of an audio file\n",
    "def calculate_duration(file_path):\n",
    "    try:\n",
    "        y, sr = librosa.load(file_path, sr=None)\n",
    "        return librosa.get_duration(y=y, sr=sr)\n",
    "    except Exception as e:\n",
    "        print(f\"Error loading {file_path}: {e}\")\n",
    "        return np.nan"
   ]
  },
  {
   "cell_type": "code",
   "execution_count": null,
   "metadata": {
    "trusted": true
   },
   "outputs": [],
   "source": [
    "import psutil\n",
    "\n",
    "# Function to process a batch of files and calculate durations\n",
    "def process_batch(batch_df):\n",
    "    batch_df['Duration'] = batch_df['File Path'].apply(calculate_duration)\n",
    "    return batch_df\n",
    "\n",
    "# Define batch size\n",
    "batch_size = 10000  # Increased batch size\n",
    "\n",
    "# Initialize an empty list to hold the processed DataFrames\n",
    "processed_batches = []\n",
    "\n",
    "# Total number of batches\n",
    "num_batches = len(combined_df) // batch_size + 1\n",
    "\n",
    "# Function to check memory usage\n",
    "def check_memory():\n",
    "    process = psutil.Process(os.getpid())\n",
    "    mem_info = process.memory_info()\n",
    "    return mem_info.rss / (1024 ** 3)  # Memory usage in GB\n",
    "\n",
    "# Process the files in batches and monitor progress\n",
    "for i in range(num_batches):\n",
    "    print(f\"Processing Batch {i+1}/{num_batches}\")\n",
    "    with tqdm(total=batch_size, desc=f\"Batch {i+1}\") as pbar:\n",
    "        start_idx = i * batch_size\n",
    "        end_idx = min((i + 1) * batch_size, len(combined_df))\n",
    "        batch_df = combined_df.iloc[start_idx:end_idx].copy()\n",
    "        processed_batch = process_batch(batch_df)\n",
    "        processed_batches.append(processed_batch)\n",
    "        pbar.update(end_idx - start_idx)\n",
    "    pbar.close()\n",
    "    \n",
    "    # Check memory usage after each batch\n",
    "    memory_usage = check_memory()\n",
    "    print(f\"Memory usage after batch {i+1}: {memory_usage:.2f} GB\")\n",
    "\n",
    "# Concatenate all the processed batches into a single DataFrame\n",
    "processed_df = pd.concat(processed_batches, ignore_index=True)\n",
    "\n",
    "# Display the updated DataFrame with durations\n",
    "print(\"Updated DataFrame with Durations:\")\n",
    "print(processed_df.head())\n",
    "\n",
    "# Print the total number of batches processed\n",
    "print(f\"Total number of batches processed: {num_batches}\")\n"
   ]
  },
  {
   "cell_type": "code",
   "execution_count": null,
   "metadata": {
    "trusted": true
   },
   "outputs": [],
   "source": [
    "processed_df.head()"
   ]
  },
  {
   "cell_type": "code",
   "execution_count": null,
   "metadata": {
    "trusted": true
   },
   "outputs": [],
   "source": [
    "# Save Combined Data with Metadata to CSV\n",
    "combined_data_updated_csv_path = \"/kaggle/working/combined_data_updated.csv\"\n",
    "processed_df.to_csv(combined_data_updated_csv_path, index=False)\n",
    "print(\"DONE\")"
   ]
  },
  {
   "cell_type": "code",
   "execution_count": null,
   "metadata": {
    "trusted": true
   },
   "outputs": [],
   "source": [
    "combined_data_path = \"/kaggle/input/combined-data-updated/combined_data_updated.csv\"\n",
    "combined_df = pd.read_csv(combined_data_path)"
   ]
  },
  {
   "cell_type": "code",
   "execution_count": null,
   "metadata": {
    "trusted": true
   },
   "outputs": [],
   "source": [
    "# Ensure that infinite values are treated as NaN\n",
    "pd.set_option('mode.use_inf_as_na', True)\n",
    "\n",
    "# Check if the 'Duration' column exists in the DataFrame\n",
    "if 'Duration' in combined_df.columns:\n",
    "    plt.figure(figsize=(10, 6))\n",
    "    sns.histplot(combined_df['Duration'].dropna(), bins=30, kde=True, color='blue')\n",
    "    plt.title('Distribution of Audio File Durations')\n",
    "    plt.xlabel('Duration (seconds)')\n",
    "    plt.ylabel('Frequency')\n",
    "    plt.show()\n",
    "else:\n",
    "    print(\"Duration information is not available in the metadata.\")"
   ]
  }
 ],
 "metadata": {
  "colab": {
   "authorship_tag": "ABX9TyOPGykRlntXxOIMmLb+wZB/",
   "mount_file_id": "1I18WmflhOUYTPZIDJNn_oDHCUl4lOh9R",
   "provenance": []
  },
  "kaggle": {
   "accelerator": "none",
   "dataSources": [
    {
     "datasetId": 4827121,
     "sourceId": 8452149,
     "sourceType": "datasetVersion"
    },
    {
     "datasetId": 5104648,
     "sourceId": 8543981,
     "sourceType": "datasetVersion"
    },
    {
     "datasetId": 5109607,
     "sourceId": 8550787,
     "sourceType": "datasetVersion"
    },
    {
     "datasetId": 5119896,
     "sourceId": 8564218,
     "sourceType": "datasetVersion"
    }
   ],
   "dockerImageVersionId": 30698,
   "isGpuEnabled": false,
   "isInternetEnabled": false,
   "language": "python",
   "sourceType": "notebook"
  },
  "kernelspec": {
   "display_name": "ast",
   "language": "python",
   "name": "python3"
  },
  "language_info": {
   "codemirror_mode": {
    "name": "ipython",
    "version": 3
   },
   "file_extension": ".py",
   "mimetype": "text/x-python",
   "name": "python",
   "nbconvert_exporter": "python",
   "pygments_lexer": "ipython3",
   "version": "3.13.0"
  }
 },
 "nbformat": 4,
 "nbformat_minor": 4
}
